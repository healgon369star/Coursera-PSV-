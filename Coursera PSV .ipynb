{
  "metadata": {
    "language_info": {
      "codemirror_mode": {
        "name": "python",
        "version": 3
      },
      "file_extension": ".py",
      "mimetype": "text/x-python",
      "name": "python",
      "nbconvert_exporter": "python",
      "pygments_lexer": "ipython3",
      "version": "3.8"
    },
    "kernelspec": {
      "name": "python",
      "display_name": "Python (Pyodide)",
      "language": "python"
    }
  },
  "nbformat_minor": 4,
  "nbformat": 4,
  "cells": [
    {
      "cell_type": "markdown",
      "source": "<h1>MY JUPYTER NOTEBOOK ON IBM WATSON STUDIO</h1>",
      "metadata": {}
    },
    {
      "cell_type": "markdown",
      "source": "<strong>PAUL STEVEN VELASQUEZ VEGA</strong>\n# yo soy inevitable\n# y Yo \n# Yo soy !Iron Man¡",
      "metadata": {}
    },
    {
      "cell_type": "markdown",
      "source": "<i>Mi interés en la ciencia de datos es importe para mi trabajo en la parte comercial y contable de las empresas </i>",
      "metadata": {}
    },
    {
      "cell_type": "markdown",
      "source": "<h3>Valor a cobrar de una tienda por la venta de unas sapatillas zapatillas Nike Jordan 1,\"factura\"</h3>",
      "metadata": {}
    },
    {
      "cell_type": "code",
      "source": "# Valor sin descuento por unidad de unas sapatillas zapatillas Nike Jordan 1 \nvalor_nkj1 = 625\n# Valor en porcentaje de descuento en pago efectivo de la tienda \ndescuento = 0.2 \n# Valor de la cantidad de unidades a vender\ncantidad_nkj1 = 1",
      "metadata": {
        "trusted": true
      },
      "execution_count": 14,
      "outputs": []
    },
    {
      "cell_type": "code",
      "source": "# Valor del descuento por la venta\nvalor_descuento = (cantidad_nkj1 * valor_nkj1) * descuento\n# Valor neto a cobrar\nvalor_pagar = ( valor_nkj1-valor_descuento)",
      "metadata": {
        "trusted": true
      },
      "execution_count": 15,
      "outputs": []
    },
    {
      "cell_type": "code",
      "source": "# valor_nkj1\nprint(\"valor de Nike Jordan 1 en USD\")\nprint(valor_nkj1)\n# valor_descuento\nprint(\"valor de descuento en USD\")\nprint(-valor_descuento)\n# valor_pagar\nprint(\"valor a pagar en USD\")\nprint(valor_pagar)",
      "metadata": {
        "trusted": true
      },
      "execution_count": 16,
      "outputs": [
        {
          "name": "stdout",
          "text": "valor de Nike Jordan 1 en USD\n625\nvalor de descuento en USD\n-125.0\nvalor a pagar en USD\n500.0\n",
          "output_type": "stream"
        }
      ]
    },
    {
      "cell_type": "markdown",
      "source": "<ul> \n    <li>Dunk Low</li>\n    <li>Overbreak</li>\n    <li>AF 1:</li>\n    <li>AJ 1</li>\n    <li>SACAI</li>\n</ul>\n\n<ol> \n    <li>Dunk Ambush</li>\n    <li>AJ 4</li>\n    <li>MMW:</li>\n    <li>AM 90</li>\n    <li>air max 97</li>\n</ol>",
      "metadata": {}
    },
    {
      "cell_type": "markdown",
      "source": "<a href=\"url\">https://www.youtube.com/watch?v=s-hzc1JioQk</a>",
      "metadata": {}
    },
    {
      "cell_type": "code",
      "source": "",
      "metadata": {},
      "execution_count": null,
      "outputs": []
    },
    {
      "cell_type": "code",
      "source": "",
      "metadata": {},
      "execution_count": null,
      "outputs": []
    }
  ]
}